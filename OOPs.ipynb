{
  "nbformat": 4,
  "nbformat_minor": 0,
  "metadata": {
    "colab": {
      "provenance": []
    },
    "kernelspec": {
      "name": "python3",
      "display_name": "Python 3"
    },
    "language_info": {
      "name": "python"
    }
  },
  "cells": [
    {
      "cell_type": "code",
      "execution_count": null,
      "metadata": {
        "id": "634yU7mIeIL-"
      },
      "outputs": [],
      "source": []
    },
    {
      "cell_type": "markdown",
      "source": [
        "#python oops questions\n"
      ],
      "metadata": {
        "id": "wNaePYBZeXxi"
      }
    },
    {
      "cell_type": "markdown",
      "source": [
        "1. What is Object-Oriented Programming (OOP)?\n",
        "   - Object-Oriented Programming (OOP) is a programming paradigm based on the concept of organizing code into objects, which represent real-world entities. It emphasizes the use of classes and objects to structure and model software systems. OOP helps improve code organization, maintainability, and reusability.\n",
        "\n",
        "2. What is a class in OOP?\n",
        "   - In Object-Oriented Programming (OOP), a class is a blueprint or template for creating objects. It defines the structure and behavior that the objects will have.\n",
        "\n",
        "3. What is an object in OOP?\n",
        "   - In Object-Oriented Programming (OOP), an object is an instance of a class. It represents a specific entity with its own unique set of data (attributes) and behaviors (methods). Objects are the fundamental building blocks of OOP and are created from classes, which serve as blueprints.\n",
        "\n",
        "4. What is the difference between abstraction and encapsulation?\n",
        "   - Abstraction:\n",
        "Abstraction is the process of hiding unnecessary details and showing only the essential features of an object or system. It focuses on defining what an object does rather than how it does it.\n",
        "\n",
        "  -  Encapsulation:\n",
        "Encapsulation is the process of bundling data (attributes) and methods (functions) into a single unit (class) and restricting direct access to some components to ensure controlled interaction.\n",
        "\n",
        "5. What are dunder methods in Python?\n",
        "   - Dunder methods (short for \"double underscore methods\") in Python are special methods that start and end with double underscores (__). They are also known as magic methods or special methods. These methods allow developers to define how objects of a class behave with built-in operations, like arithmetic, comparisons, and type conversions, or to customize object behavior for special cases.\n",
        "\n",
        "6. Explain the concept of inheritance in OOP?\n",
        "   - Inheritance is one of the core principles of Object-Oriented Programming (OOP). It allows a class (called the child class or subclass) to inherit properties and behaviors (attributes and methods) from another class (called the parent class or superclass). This promotes code reuse, extensibility, and hierarchical organization.\n",
        "\n",
        "7. What is polymorphism in OOP?\n",
        "   - Polymorphism is one of the fundamental principles of Object-Oriented Programming (OOP). The term \"polymorphism\" means \"many forms\". It refers to the ability of a function, method, or object to behave differently based on the context in which it is used.\n",
        "\n",
        "8. How is encapsulation achieved in Python?\n",
        "   -  encapsulation is achieved using access modifiers and by defining how attributes and methods can be accessed from outside the class.\n",
        "\n",
        "9. What is a constructor in Python?\n",
        "   - A constructor in Python is a special method that is automatically called when an object of a class is created. It is used to initialize the attributes of the object. In Python, the constructor method is defined using the __init__ method.\n",
        "\n",
        "10. What are class and static methods in Python?\n",
        "    -  The class methods and static methods are specialized methods within a class that serve different purposes. Both differ from instance methods (the default methods in a class) in how they are defined and accessed.\n",
        "    -  A class method is a method that is bound to the class, not the instance of the class. It can access and modify class-level attributes but cannot directly modify instance-level attributes.\n",
        "\n",
        "    - A static method is a method that does not depend on class or instance-level data. It behaves like a regular function but is part of the class's namespace for logical grouping.\n",
        "\n",
        "11. What is method overloading in Python?\n",
        "    - In Python, method overloading can be simulated in a few different ways, typically using default parameters or variable-length arguments.\n",
        "\n",
        "12. What is method overriding in OOP?\n",
        "    - Method overriding is a key concept in Object-Oriented Programming (OOP) where a subclass provides a specific implementation of a method that is already defined in its superclass. It allows the subclass to modify or extend the behavior of the inherited method.\n",
        "\n",
        "13. What is a property decorator in Python?\n",
        "    - The @property decorator in Python is used to define a property in a class. A property allows you to define a method that can be accessed like an attribute, without explicitly calling it as a method. It provides a way to encapsulate the logic for getting, setting, or deleting an attribute while still using standard attribute access syntax.\n",
        "\n",
        "14. Why is polymorphism important in OOP?\n",
        "    - Polymorphism is a cornerstone of Object-Oriented Programming (OOP), and it provides several important advantages that make OOP more powerful, flexible, and scalable. The word \"polymorphism\" comes from the Greek words \"poly\" (many) and \"morph\" (form), meaning many forms. In the context of OOP, polymorphism allows objects of different classes to be treated as objects of a common superclass. It enables different classes to provide their own implementation of a method while maintaining the same method signature.\n",
        "\n",
        "15. What is an abstract class in Python?\n",
        "    - abstract classes are defined using the abc module (short for Abstract Base Class). The abstract class can include both abstract methods (which are not implemented) and concrete methods (which are implemented).\n",
        "\n",
        "16. What are the advantages of OOP?\n",
        "    - OOP provides many advantages, including:\n",
        "    - Modularity and Reusability through classes and inheritance.\n",
        "    - Maintainability through clear structure and the ability to change code in one place.\n",
        "    - Encapsulation to protect data and ensure that objects only interact with each other via well-defined interfaces.\n",
        "    - Abstraction to simplify complex systems and hide unnecessary details.\n",
        "Polymorphism for more flexible and reusable code.\n",
        "    - Improved collaboration, easier debugging, and scalability for growing projects.\n",
        "    - Real-world modeling to create software that mirrors real-life entities and interactions.\n",
        "\n",
        "17. What is the difference between a class variable and an instance variable?\n",
        "    - Class Variable: A class variable is a variable that is shared across all instances of the class. It is defined within the class but outside of any instance methods (i.e., outside __init__).\n",
        "\n",
        "    - Instance Variable: An instance variable is a variable that is specific to an instance (object) of the class. It is usually defined inside the __init__ method using the self keyword.\n",
        "\n",
        "18. What is multiple inheritance in Python?\n",
        "    - Multiple inheritance in Python refers to the ability of a class to inherit attributes and methods from more than one parent class. This allows a class to combine the functionality of multiple base classes into a single derived class.\n",
        "\n",
        "19. Explain the purpose of ‘’__str__’ and ‘__repr__’ ‘ methods in Python?\n",
        "    - 1. __str__: The __str__ method is intended to provide a user-friendly or informal string representation of an object. It is used by the str() function and the print() function to display the object as a string. Its goal is to produce a readable output that can be easily understood by humans.\n",
        "\n",
        "    - 2. __repr__: The __repr__ method is intended to provide a more formal or unambiguous string representation of an object. It is used by the repr() function and when you inspect the object in a Python interpreter. The goal of __repr__ is to provide a string that, if passed to eval(), could ideally recreate the object (although this is not always practical).\n",
        "\n",
        "20. What is the significance of the ‘super()’ function in Python?\n",
        "    - Significance of super():\n",
        "    - 1.Accessing Parent Class Methods: super() allows you to call methods of the parent class from the child class. This is helpful if you want to extend or modify the behavior of an inherited method while still preserving the functionality of the parent class method.\n",
        "\n",
        "    - 2.Avoiding Direct Class References: Instead of explicitly naming the parent class, you can use super() to refer to the next class in the method resolution order (MRO). This is especially important in multiple inheritance, where it ensures that the method from the correct parent class is called.\n",
        "\n",
        "    - 3.Method Resolution Order (MRO): When using multiple inheritance, super() helps in correctly resolving which method from the class hierarchy should be called. Python uses the C3 linearization algorithm (MRO) to ensure that classes are checked in a predictable order.\n",
        "\n",
        "21. What is the significance of the __del__ method in Python?\n",
        "    - Significance of __del__:\n",
        "    - 1.Resource Cleanup: The primary use of __del__ is to release or clean up resources that the object might have acquired during its lifetime, such as closing files or releasing network connections. This is important to prevent resource leaks in programs.\n",
        "\n",
        "    - 2.Automatic Garbage Collection: Python has an automatic garbage collection system that cleans up objects when they are no longer in use. However, sometimes objects acquire resources (like files, database connections, or locks) that need to be explicitly cleaned up before they are destroyed. The __del__ method is an opportunity to do this cleanup.\n",
        "\n",
        "    - 3.Custom Destruction Logic: It allows developers to define their custom behavior when an object is destroyed. For example, you might want to log information when an object is deleted or perform other important tasks.\n",
        "\n",
        "22. What is the difference between @staticmethod and @classmethod in Python?\n",
        "    -  A @static method is a method that does not take an implicit first argument (self or cls) when called. It behaves like a regular function, but it is bound to the class's namespace, meaning it belongs to the class but does not have access to class or instance attributes.\n",
        "\n",
        "    - A @class method is a method that takes the class (cls) as its first argument, rather than an instance (self). This allows the method to access and modify class-level data (attributes and methods) but not instance-specific data.\n",
        "\n",
        "23. How does polymorphism work in Python with inheritance?\n",
        "    - Method Overriding: In Python, a subclass can override methods of its parent class. When you call the method on an instance of the subclass, the subclass's version of the method is executed, even if the method was defined in the parent class. This is a key component of polymorphism.\n",
        "\n",
        "    - Duck Typing: Python uses a concept known as \"duck typing,\" which means that the type or class of an object is less important than the methods it implements. If an object has the required methods, Python treats it as if it is of the expected type. This allows different types to share the same method name, thus enabling polymorphism.\n",
        "\n",
        "    - Dynamic Method Dispatch: When polymorphism is used, the correct method to invoke is determined at runtime based on the actual object type, rather than at compile time.\n",
        "\n",
        "24. What is method chaining in Python OOP?\n",
        "    - Method chaining in Python OOP (Object-Oriented Programming) is a programming technique where multiple method calls are chained together in a single statement. Each method in the chain returns the object itself (usually self), which allows you to call another method on the same object in a continuous, readable, and concise manner.\n",
        "\n",
        "25. What is the purpose of the __call__ method in Python?\n",
        "    - The __call__ method in Python is a special method that allows an object to be called like a function. When you define __call__ in a class, instances of that class can be called directly, which means you can invoke the object itself as if it were a function. This is useful for creating objects that behave like functions, providing more flexibility and a more natural interface for certain use cases.\n",
        "\n",
        "    - Purpose of __call__:Making Objects Callable: It allows you to make an instance of a class callable, which means you can call the object itself and have it perform some action.\n",
        "    - Function-Like Behavior: It allows instances of a class to behave like functions, but with the added ability to maintain internal state or have additional methods and attributes that functions don't have.\n",
        "    - Flexibility: You can use __call__ to define custom behavior when the object is called, such as performing complex logic or handling arguments in a specific way.\n",
        "    \n",
        "\n",
        "\n",
        "\n",
        "\n",
        "\n",
        "\n",
        "\n",
        "\n",
        "\n",
        "\n",
        "   "
      ],
      "metadata": {
        "id": "5gYCB7Ueeh-W"
      }
    },
    {
      "cell_type": "markdown",
      "source": [
        "#PRACTICAL QUESTIONS"
      ],
      "metadata": {
        "id": "newZQOu_oulV"
      }
    },
    {
      "cell_type": "markdown",
      "source": [
        "1.Create a parent class Animal with a method speak() that prints a generic message. Create a child class Dog\n",
        "that overrides the speak() method to print \"Bark!\"?"
      ],
      "metadata": {
        "id": "SfgbfXHapbMv"
      }
    },
    {
      "cell_type": "code",
      "source": [
        "\n",
        "# Parent class\n",
        "class Animal:\n",
        "    def speak(self):\n",
        "        print(\"Animal makes a sound\")\n",
        "\n",
        "# Child class\n",
        "class Dog(Animal):\n",
        "    def speak(self):\n",
        "        print(\"Bark!\")\n",
        "\n",
        "# Creating instances and calling the speak() method\n",
        "animal = Animal()\n",
        "animal.speak()\n",
        "\n",
        "dog = Dog()\n",
        "dog.speak()\n"
      ],
      "metadata": {
        "colab": {
          "base_uri": "https://localhost:8080/"
        },
        "id": "0Xt9VuqIo0cl",
        "outputId": "bb9a283e-259b-4755-8525-0027f1c0846a"
      },
      "execution_count": 2,
      "outputs": [
        {
          "output_type": "stream",
          "name": "stdout",
          "text": [
            "Animal makes a sound\n",
            "Bark!\n"
          ]
        }
      ]
    },
    {
      "cell_type": "markdown",
      "source": [
        "2. Write a program to create an abstract class Shape with a method area(). Derive classes Circle and Rectangle\n",
        "from it and implement the area() method in both."
      ],
      "metadata": {
        "id": "jFJuZtcupkaG"
      }
    },
    {
      "cell_type": "code",
      "source": [
        "from abc import ABC, abstractmethod\n",
        "import math\n",
        "\n",
        "# Abstract class\n",
        "class Shape(ABC):\n",
        "    @abstractmethod\n",
        "    def area(self):\n",
        "        pass\n",
        "\n",
        "# Circle class\n",
        "class Circle(Shape):\n",
        "    def __init__(self, radius):\n",
        "        self.radius = radius\n",
        "\n",
        "    def area(self):\n",
        "        return math.pi * (self.radius ** 2)\n",
        "\n",
        "# Rectangle class\n",
        "class Rectangle(Shape):\n",
        "    def __init__(self, width, height):\n",
        "        self.width = width\n",
        "        self.height = height\n",
        "\n",
        "    def area(self):\n",
        "        return self.width * self.height\n",
        "\n",
        "# Creating instances and calculating area\n",
        "circle = Circle(5)\n",
        "rectangle = Rectangle(4, 6)\n",
        "\n",
        "print(f\"Area of Circle: {circle.area():.2f}\")\n",
        "print(f\"Area of Rectangle: {rectangle.area()}\")\n"
      ],
      "metadata": {
        "colab": {
          "base_uri": "https://localhost:8080/"
        },
        "id": "z65EqVqgpqf0",
        "outputId": "6cd8fc8d-a462-40cd-82c2-67d2c43b32bc"
      },
      "execution_count": 3,
      "outputs": [
        {
          "output_type": "stream",
          "name": "stdout",
          "text": [
            "Area of Circle: 78.54\n",
            "Area of Rectangle: 24\n"
          ]
        }
      ]
    },
    {
      "cell_type": "markdown",
      "source": [
        "3.  Implement a multi-level inheritance scenario where a class Vehicle has an attribute type. Derive a class Car\n",
        "and further derive a class ElectricCar that adds a battery attribute?"
      ],
      "metadata": {
        "id": "0u69tGHIp_MM"
      }
    },
    {
      "cell_type": "code",
      "source": [
        "# Base class\n",
        "class Vehicle:\n",
        "    def __init__(self, type):\n",
        "        self.type = type\n",
        "\n",
        "    def display_type(self):\n",
        "        print(f\"Vehicle type: {self.type}\")\n",
        "\n",
        "# Derived class Car\n",
        "class Car(Vehicle):\n",
        "    def __init__(self, type, model):\n",
        "        super().__init__(type)  # Call the constructor of Vehicle\n",
        "        self.model = model\n",
        "\n",
        "    def display_model(self):\n",
        "        print(f\"Car model: {self.model}\")\n",
        "\n",
        "# Further derived class ElectricCar\n",
        "class ElectricCar(Car):\n",
        "    def __init__(self, type, model, battery):\n",
        "        super().__init__(type, model)  # Call the constructor of Car\n",
        "        self.battery = battery\n",
        "\n",
        "    def display_battery(self):\n",
        "        print(f\"Battery capacity: {self.battery} kWh\")\n",
        "\n",
        "# Creating an instance of ElectricCar\n",
        "electric_car = ElectricCar(\"Electric\", \"Tesla Model 3\", 75)\n",
        "\n",
        "# Calling methods from all levels of inheritance\n",
        "electric_car.display_type()\n",
        "electric_car.display_model()\n",
        "electric_car.display_battery()\n"
      ],
      "metadata": {
        "colab": {
          "base_uri": "https://localhost:8080/"
        },
        "id": "OTNrtuYqqEEK",
        "outputId": "6ee67250-eb1f-4c4a-c686-70ba1c84d1b3"
      },
      "execution_count": 5,
      "outputs": [
        {
          "output_type": "stream",
          "name": "stdout",
          "text": [
            "Vehicle type: Electric\n",
            "Car model: Tesla Model 3\n",
            "Battery capacity: 75 kWh\n"
          ]
        }
      ]
    },
    {
      "cell_type": "markdown",
      "source": [
        "4. Implement a multi-level inheritance scenario where a class Vehicle has an attribute type. Derive a class Car\n",
        "and further derive a class ElectricCar that adds a battery attribute?"
      ],
      "metadata": {
        "id": "WfYm6bR2qVlV"
      }
    },
    {
      "cell_type": "code",
      "source": [
        "# Base class\n",
        "class Vehicle:\n",
        "    def __init__(self, type):\n",
        "        self.type = type\n",
        "\n",
        "    def display_type(self):\n",
        "        print(f\"Vehicle type: {self.type}\")\n",
        "\n",
        "# Derived class Car\n",
        "class Car(Vehicle):\n",
        "    def __init__(self, type, model):\n",
        "        super().__init__(type)  # Call the constructor of Vehicle\n",
        "        self.model = model\n",
        "\n",
        "    def display_model(self):\n",
        "        print(f\"Car model: {self.model}\")\n",
        "\n",
        "# Further derived class ElectricCar\n",
        "class ElectricCar(Car):\n",
        "    def __init__(self, type, model, battery):\n",
        "        super().__init__(type, model)  # Call the constructor of Car\n",
        "        self.battery = battery\n",
        "\n",
        "    def display_battery(self):\n",
        "        print(f\"Battery capacity: {self.battery} kWh\")\n",
        "\n",
        "# Creating an instance of ElectricCar\n",
        "electric_car = ElectricCar(\"Electric\", \"Tesla Model S\", 100)\n",
        "\n",
        "# Calling methods from all levels of inheritance\n",
        "electric_car.display_type()  # Inherited from Vehicle\n",
        "electric_car.display_model()  # Inherited from Car\n",
        "electric_car.display_battery()  # Defined in ElectricCar\n"
      ],
      "metadata": {
        "colab": {
          "base_uri": "https://localhost:8080/"
        },
        "id": "GCBz8kOtqa1K",
        "outputId": "d2eb4065-bdf1-4d40-a6f9-d951638584ea"
      },
      "execution_count": 6,
      "outputs": [
        {
          "output_type": "stream",
          "name": "stdout",
          "text": [
            "Vehicle type: Electric\n",
            "Car model: Tesla Model S\n",
            "Battery capacity: 100 kWh\n"
          ]
        }
      ]
    },
    {
      "cell_type": "markdown",
      "source": [
        "5. Write a program to demonstrate encapsulation by creating a class BankAccount with private attributes\n",
        "balance and methods to deposit, withdraw, and check balance?"
      ],
      "metadata": {
        "id": "Vgl8dXG-qrIw"
      }
    },
    {
      "cell_type": "code",
      "source": [
        "class BankAccount:\n",
        "    def __init__(self, owner, balance=0):\n",
        "        self.owner = owner\n",
        "        self.__balance = balance  # Private attribute\n",
        "\n",
        "    def deposit(self, amount):\n",
        "        if amount > 0:\n",
        "            self.__balance += amount\n",
        "            print(f\"Deposited: ${amount}\")\n",
        "        else:\n",
        "            print(\"Deposit amount must be positive.\")\n",
        "\n",
        "    def withdraw(self, amount):\n",
        "        if amount > 0:\n",
        "            if amount <= self.__balance:\n",
        "                self.__balance -= amount\n",
        "                print(f\"Withdrew: ${amount}\")\n",
        "            else:\n",
        "                print(\"Insufficient funds.\")\n",
        "        else:\n",
        "            print(\"Withdrawal amount must be positive.\")\n",
        "\n",
        "    def check_balance(self):\n",
        "        print(f\"Balance: ${self.__balance}\")\n",
        "\n",
        "# Creating an instance of BankAccount\n",
        "account = BankAccount(\"John Doe\", 1000)\n",
        "\n",
        "# Accessing methods to deposit, withdraw, and check balance\n",
        "account.check_balance()\n",
        "account.deposit(500)\n",
        "account.check_balance()\n",
        "account.withdraw(200)\n",
        "account.check_balance()\n",
        "\n",
        "\n",
        "\n"
      ],
      "metadata": {
        "colab": {
          "base_uri": "https://localhost:8080/"
        },
        "id": "v3TF7nApqwFK",
        "outputId": "7944fa6f-6db3-4b6d-873b-5b2b780189aa"
      },
      "execution_count": 8,
      "outputs": [
        {
          "output_type": "stream",
          "name": "stdout",
          "text": [
            "Balance: $1000\n",
            "Deposited: $500\n",
            "Balance: $1500\n",
            "Withdrew: $200\n",
            "Balance: $1300\n"
          ]
        }
      ]
    },
    {
      "cell_type": "markdown",
      "source": [
        "6. Demonstrate runtime polymorphism using a method play() in a base class Instrument. Derive classes Guitar\n",
        "and Piano that implement their own version of play()?"
      ],
      "metadata": {
        "id": "ggAqiuRMtCSU"
      }
    },
    {
      "cell_type": "code",
      "source": [
        "# Base class\n",
        "class Instrument:\n",
        "    def play(self):\n",
        "        print(\"Playing instrument\")\n",
        "\n",
        "# Derived class Guitar\n",
        "class Guitar(Instrument):\n",
        "    def play(self):\n",
        "        print(\"Playing guitar\")\n",
        "\n",
        "# Derived class Piano\n",
        "class Piano(Instrument):\n",
        "    def play(self):\n",
        "        print(\"Playing piano\")\n",
        "\n",
        "# Demonstrating runtime polymorphism\n",
        "\n",
        "# Creating instances of the classes\n",
        "instrument = Instrument()\n",
        "guitar = Guitar()\n",
        "piano = Piano()\n",
        "\n",
        "# Calling the play() method on each instance\n",
        "instrument.play()\n",
        "guitar.play()\n",
        "piano.play()\n",
        "\n",
        "# Demonstrating runtime polymorphism by using a list of objects\n",
        "instruments = [instrument, guitar, piano]\n",
        "for i in instruments:\n",
        "    i.play()  # Calls the appropriate play() method for each object\n"
      ],
      "metadata": {
        "colab": {
          "base_uri": "https://localhost:8080/"
        },
        "id": "a-zQJel_tKZn",
        "outputId": "096cb1a1-3248-4bce-bc43-62afb27f9587"
      },
      "execution_count": 9,
      "outputs": [
        {
          "output_type": "stream",
          "name": "stdout",
          "text": [
            "Playing instrument\n",
            "Playing guitar\n",
            "Playing piano\n",
            "Playing instrument\n",
            "Playing guitar\n",
            "Playing piano\n"
          ]
        }
      ]
    },
    {
      "cell_type": "markdown",
      "source": [
        "7.  Create a class MathOperations with a class method add_numbers() to add two numbers and a static\n",
        "method subtract_numbers() to subtract two numbers?"
      ],
      "metadata": {
        "id": "8Tz6mwSgtYlB"
      }
    },
    {
      "cell_type": "code",
      "source": [
        "class MathOperations:\n",
        "    # Class method to add two numbers\n",
        "    @classmethod\n",
        "    def add_numbers(cls, num1, num2):\n",
        "        return num1 + num2\n",
        "\n",
        "    # Static method to subtract two numbers\n",
        "    @staticmethod\n",
        "    def subtract_numbers(num1, num2):\n",
        "        return num1 - num2\n",
        "\n",
        "# Demonstrating the use of class and static methods\n",
        "# Using the class method add_numbers()\n",
        "sum_result = MathOperations.add_numbers(10, 5)\n",
        "print(f\"Sum: {sum_result}\")  # Output: Sum: 15\n",
        "\n",
        "# Using the static method subtract_numbers()\n",
        "difference_result = MathOperations.subtract_numbers(10, 5)\n",
        "print(f\"Difference: {difference_result}\")\n"
      ],
      "metadata": {
        "colab": {
          "base_uri": "https://localhost:8080/"
        },
        "id": "jl89mdCDtgZP",
        "outputId": "af6df795-4090-4736-ccd2-3bd9486b30d3"
      },
      "execution_count": 10,
      "outputs": [
        {
          "output_type": "stream",
          "name": "stdout",
          "text": [
            "Sum: 15\n",
            "Difference: 5\n"
          ]
        }
      ]
    },
    {
      "cell_type": "markdown",
      "source": [
        "8. . Implement a class Person with a class method to count the total number of persons created?"
      ],
      "metadata": {
        "id": "r1QFbJz8toFD"
      }
    },
    {
      "cell_type": "code",
      "source": [
        "class Person:\n",
        "    # Class variable to track the count of Person objects\n",
        "    total_persons = 0\n",
        "\n",
        "    def __init__(self, name, age):\n",
        "        self.name = name\n",
        "        self.age = age\n",
        "        # Increment the count each time a new Person object is created\n",
        "        Person.total_persons += 1\n",
        "\n",
        "    @classmethod\n",
        "    def get_total_persons(cls):\n",
        "        # Return the total number of Person objects created\n",
        "        return cls.total_persons\n",
        "\n",
        "# Example usage:\n",
        "person1 = Person(\"Alice\", 30)\n",
        "person2 = Person(\"Bob\", 25)\n",
        "person3 = Person(\"Charlie\", 35)\n",
        "\n",
        "# Get the total number of persons created\n",
        "print(Person.get_total_persons())\n"
      ],
      "metadata": {
        "colab": {
          "base_uri": "https://localhost:8080/"
        },
        "id": "fGmE2Ezatt35",
        "outputId": "fc87f4c8-a08d-4340-bc61-836a48b9f37e"
      },
      "execution_count": 11,
      "outputs": [
        {
          "output_type": "stream",
          "name": "stdout",
          "text": [
            "3\n"
          ]
        }
      ]
    },
    {
      "cell_type": "markdown",
      "source": [
        "9.  Write a class Fraction with attributes numerator and denominator. Override the str method to display the\n",
        "fraction as \"numerator/denominator\"?"
      ],
      "metadata": {
        "id": "YkH0tu6Kt6xi"
      }
    },
    {
      "cell_type": "code",
      "source": [
        "class Fraction:\n",
        "    def __init__(self, numerator, denominator):\n",
        "        self.numerator = numerator\n",
        "        self.denominator = denominator\n",
        "\n",
        "    def __str__(self):\n",
        "        # Return the fraction in the format 'numerator/denominator'\n",
        "        return f\"{self.numerator}/{self.denominator}\"\n",
        "\n",
        "# Example usage:\n",
        "fraction1 = Fraction(3, 4)\n",
        "fraction2 = Fraction(5, 8)\n",
        "\n",
        "print(fraction1)\n",
        "print(fraction2)\n"
      ],
      "metadata": {
        "colab": {
          "base_uri": "https://localhost:8080/"
        },
        "id": "BbSkmvnut_BW",
        "outputId": "0a065188-2a22-4eec-9ad1-dcf5b2430a6f"
      },
      "execution_count": 12,
      "outputs": [
        {
          "output_type": "stream",
          "name": "stdout",
          "text": [
            "3/4\n",
            "5/8\n"
          ]
        }
      ]
    },
    {
      "cell_type": "markdown",
      "source": [
        "10.  Demonstrate operator overloading by creating a class Vector and overriding the add method to add two\n",
        "vectors?"
      ],
      "metadata": {
        "id": "haB1nafzuHxX"
      }
    },
    {
      "cell_type": "code",
      "source": [
        "class Vector:\n",
        "    def __init__(self, x, y):\n",
        "        self.x = x\n",
        "        self.y = y\n",
        "\n",
        "    def __add__(self, other):\n",
        "        # Overloading the '+' operator to add two vectors\n",
        "        if isinstance(other, Vector):\n",
        "            return Vector(self.x + other.x, self.y + other.y)\n",
        "        return NotImplemented\n",
        "\n",
        "    def __str__(self):\n",
        "        # Display vector as \"(x, y)\"\n",
        "        return f\"({self.x}, {self.y})\"\n",
        "\n",
        "# Example usage:\n",
        "vector1 = Vector(2, 3)\n",
        "vector2 = Vector(4, 5)\n",
        "\n",
        "# Adding two vectors using overloaded '+' operator\n",
        "result = vector1 + vector2\n",
        "\n",
        "print(\"Vector 1:\", vector1)\n",
        "print(\"Vector 2:\", vector2)\n",
        "print(\"Result of addition:\", result)\n"
      ],
      "metadata": {
        "colab": {
          "base_uri": "https://localhost:8080/"
        },
        "id": "rTdxqy-VuNtq",
        "outputId": "05a51f7f-3bdd-411a-b336-c672f43436b4"
      },
      "execution_count": 13,
      "outputs": [
        {
          "output_type": "stream",
          "name": "stdout",
          "text": [
            "Vector 1: (2, 3)\n",
            "Vector 2: (4, 5)\n",
            "Result of addition: (6, 8)\n"
          ]
        }
      ]
    },
    {
      "cell_type": "markdown",
      "source": [
        "11. Create a class Person with attributes name and age. Add a method greet() that prints \"Hello, my name is\n",
        "{name} and I am {age} years old.\"?"
      ],
      "metadata": {
        "id": "lJ3Mv9MqufCt"
      }
    },
    {
      "cell_type": "code",
      "source": [
        "class Person:\n",
        "    def __init__(self, name, age):\n",
        "        self.name = name\n",
        "        self.age = age\n",
        "\n",
        "    def greet(self):\n",
        "        print(f\"Hello, my name is {self.name} and I am {self.age} years old.\")\n",
        "\n",
        "# Example usage:\n",
        "person1 = Person(\"Alice\", 30)\n",
        "person1.greet()\n"
      ],
      "metadata": {
        "colab": {
          "base_uri": "https://localhost:8080/"
        },
        "id": "5qpgLWZTukYI",
        "outputId": "35f6c2ec-6e60-4640-ee53-2afa2b28dd9c"
      },
      "execution_count": 14,
      "outputs": [
        {
          "output_type": "stream",
          "name": "stdout",
          "text": [
            "Hello, my name is Alice and I am 30 years old.\n"
          ]
        }
      ]
    },
    {
      "cell_type": "markdown",
      "source": [
        "12. Implement a class Student with attributes name and grades. Create a method average_grade() to compute\n",
        "the average of the grades?"
      ],
      "metadata": {
        "id": "OrTISLzYuver"
      }
    },
    {
      "cell_type": "code",
      "source": [
        "class Student:\n",
        "    def __init__(self, name, grades):\n",
        "        self.name = name\n",
        "        self.grades = grades\n",
        "\n",
        "    def average_grade(self):\n",
        "        if self.grades:\n",
        "            return sum(self.grades) / len(self.grades)\n",
        "        else:\n",
        "            return 0\n",
        "\n",
        "# Example usage:\n",
        "student = Student(\"John Doe\", [90, 85, 88, 92])\n",
        "print(f\"{student.name}'s average grade is: {student.average_grade()}\")\n"
      ],
      "metadata": {
        "colab": {
          "base_uri": "https://localhost:8080/"
        },
        "id": "UcYs-ZCuu5_C",
        "outputId": "049e7294-c565-4ad9-c5e2-be3ff4ae524f"
      },
      "execution_count": 15,
      "outputs": [
        {
          "output_type": "stream",
          "name": "stdout",
          "text": [
            "John Doe's average grade is: 88.75\n"
          ]
        }
      ]
    },
    {
      "cell_type": "markdown",
      "source": [
        "13.  Create a class Rectangle with methods set_dimensions() to set the dimensions and area() to calculate the\n",
        "area?"
      ],
      "metadata": {
        "id": "cRRDgrxgvcx6"
      }
    },
    {
      "cell_type": "code",
      "source": [
        "class Rectangle:\n",
        "    def __init__(self):\n",
        "        self.length = 0\n",
        "        self.width = 0\n",
        "\n",
        "    def set_dimensions(self, length, width):\n",
        "        self.length = length\n",
        "        self.width = width\n",
        "\n",
        "    def area(self):\n",
        "        return self.length * self.width\n",
        "\n",
        "# Example usage:\n",
        "rect = Rectangle()\n",
        "rect.set_dimensions(5, 3)\n",
        "print(f\"Area of the rectangle is: {rect.area()}\")\n"
      ],
      "metadata": {
        "colab": {
          "base_uri": "https://localhost:8080/"
        },
        "id": "HKoV2ErovmcL",
        "outputId": "08901086-d5dc-4757-aa95-cc20d0743679"
      },
      "execution_count": 16,
      "outputs": [
        {
          "output_type": "stream",
          "name": "stdout",
          "text": [
            "Area of the rectangle is: 15\n"
          ]
        }
      ]
    },
    {
      "cell_type": "markdown",
      "source": [
        "14. Create a class Employee with a method calculate_salary() that computes the salary based on hours worked\n",
        "and hourly rate. Create a derived class Manager that adds a bonus to the salary?"
      ],
      "metadata": {
        "id": "XnBeI93avuyr"
      }
    },
    {
      "cell_type": "code",
      "source": [
        "class Employee:\n",
        "    def __init__(self, name, hours_worked, hourly_rate):\n",
        "        self.name = name\n",
        "        self.hours_worked = hours_worked\n",
        "        self.hourly_rate = hourly_rate\n",
        "\n",
        "    def calculate_salary(self):\n",
        "        return self.hours_worked * self.hourly_rate\n",
        "\n",
        "class Manager(Employee):\n",
        "    def __init__(self, name, hours_worked, hourly_rate, bonus):\n",
        "        super().__init__(name, hours_worked, hourly_rate)\n",
        "        self.bonus = bonus\n",
        "\n",
        "    def calculate_salary(self):\n",
        "        base_salary = super().calculate_salary()\n",
        "        return base_salary + self.bonus\n",
        "\n",
        "# Example usage:\n",
        "employee = Employee(\"John Doe\", 40, 20)\n",
        "print(f\"Employee's salary: ${employee.calculate_salary()}\")\n",
        "\n",
        "manager = Manager(\"Alice Smith\", 40, 25, 500)\n",
        "print(f\"Manager's salary: ${manager.calculate_salary()}\")\n"
      ],
      "metadata": {
        "colab": {
          "base_uri": "https://localhost:8080/"
        },
        "id": "4L4z07hSv1J8",
        "outputId": "2452c1f6-a35c-48bc-918c-544e0f7e76b4"
      },
      "execution_count": 17,
      "outputs": [
        {
          "output_type": "stream",
          "name": "stdout",
          "text": [
            "Employee's salary: $800\n",
            "Manager's salary: $1500\n"
          ]
        }
      ]
    },
    {
      "cell_type": "markdown",
      "source": [
        "15.  Create a class Product with attributes name, price, and quantity. Implement a method total_price() that\n",
        "calculates the total price of the product?"
      ],
      "metadata": {
        "id": "I8XVtqSJv8fn"
      }
    },
    {
      "cell_type": "code",
      "source": [
        "class Product:\n",
        "    def __init__(self, name, price, quantity):\n",
        "        self.name = name\n",
        "        self.price = price\n",
        "        self.quantity = quantity\n",
        "\n",
        "    def total_price(self):\n",
        "        return self.price * self.quantity\n",
        "\n",
        "# Example usage:\n",
        "product = Product(\"Laptop\", 1000, 3)\n",
        "print(f\"Total price of {product.name}: ${product.total_price()}\")\n"
      ],
      "metadata": {
        "colab": {
          "base_uri": "https://localhost:8080/"
        },
        "id": "1n_IdLU_wCS2",
        "outputId": "ef5ab288-e3ad-4856-cf59-d49f67f1d2cc"
      },
      "execution_count": 18,
      "outputs": [
        {
          "output_type": "stream",
          "name": "stdout",
          "text": [
            "Total price of Laptop: $3000\n"
          ]
        }
      ]
    },
    {
      "cell_type": "markdown",
      "source": [
        "16. Create a class Animal with an abstract method sound(). Create two derived classes Cow and Sheep that\n",
        "implement the sound() method?"
      ],
      "metadata": {
        "id": "1bxuliHwwIHb"
      }
    },
    {
      "cell_type": "code",
      "source": [
        "from abc import ABC, abstractmethod\n",
        "\n",
        "# Abstract class\n",
        "class Animal(ABC):\n",
        "    @abstractmethod\n",
        "    def sound(self):\n",
        "        pass\n",
        "\n",
        "# Derived class Cow\n",
        "class Cow(Animal):\n",
        "    def sound(self):\n",
        "        return \"Moo\"\n",
        "\n",
        "# Derived class Sheep\n",
        "class Sheep(Animal):\n",
        "    def sound(self):\n",
        "        return \"Baa\"\n",
        "\n",
        "# Example usage:\n",
        "cow = Cow()\n",
        "sheep = Sheep()\n",
        "\n",
        "print(f\"Cow sound: {cow.sound()}\")\n",
        "print(f\"Sheep sound: {sheep.sound()}\")\n"
      ],
      "metadata": {
        "colab": {
          "base_uri": "https://localhost:8080/"
        },
        "id": "5Rk3vBm2wUCm",
        "outputId": "7aebaa92-a1ec-403f-dcd3-049eaf1a650f"
      },
      "execution_count": 19,
      "outputs": [
        {
          "output_type": "stream",
          "name": "stdout",
          "text": [
            "Cow sound: Moo\n",
            "Sheep sound: Baa\n"
          ]
        }
      ]
    },
    {
      "cell_type": "markdown",
      "source": [
        "17. Create a class Book with attributes title, author, and year_published. Add a method get_book_info() that\n",
        "returns a formatted string with the book's details?"
      ],
      "metadata": {
        "id": "jhHXvMUIwXBd"
      }
    },
    {
      "cell_type": "code",
      "source": [
        "class Book:\n",
        "    def __init__(self, title, author, year_published):\n",
        "        self.title = title\n",
        "        self.author = author\n",
        "        self.year_published = year_published\n",
        "\n",
        "    def get_book_info(self):\n",
        "        return f\"Title: {self.title}\\nAuthor: {self.author}\\nYear Published: {self.year_published}\"\n",
        "\n",
        "# Example usage:\n",
        "book = Book(\"The Great Gatsby\", \"F. Scott Fitzgerald\", 1925)\n",
        "print(book.get_book_info())\n"
      ],
      "metadata": {
        "colab": {
          "base_uri": "https://localhost:8080/"
        },
        "id": "liZzgAllwcvc",
        "outputId": "c5360726-0760-4942-e708-d5a3a2f052c8"
      },
      "execution_count": 20,
      "outputs": [
        {
          "output_type": "stream",
          "name": "stdout",
          "text": [
            "Title: The Great Gatsby\n",
            "Author: F. Scott Fitzgerald\n",
            "Year Published: 1925\n"
          ]
        }
      ]
    },
    {
      "cell_type": "markdown",
      "source": [
        "18.  Create a class House with attributes address and price. Create a derived class Mansion that adds an\n",
        "attribute number_of_rooms?"
      ],
      "metadata": {
        "id": "oSnI-J28wkr7"
      }
    },
    {
      "cell_type": "code",
      "source": [
        "class House:\n",
        "    def __init__(self, address, price):\n",
        "        self.address = address\n",
        "        self.price = price\n",
        "\n",
        "    def get_house_info(self):\n",
        "        return f\"Address: {self.address}\\nPrice: ${self.price}\"\n",
        "\n",
        "# Derived class Mansion\n",
        "class Mansion(House):\n",
        "    def __init__(self, address, price, number_of_rooms):\n",
        "        super().__init__(address, price)\n",
        "        self.number_of_rooms = number_of_rooms\n",
        "\n",
        "    def get_mansion_info(self):\n",
        "        house_info = super().get_house_info()\n",
        "        return f\"{house_info}\\nNumber of Rooms: {self.number_of_rooms}\"\n",
        "\n",
        "# Example usage:\n",
        "house = House(\"123 Oak St, Springfield\", 250000)\n",
        "print(house.get_house_info())\n",
        "\n",
        "mansion = Mansion(\"456 Luxury Ln, Beverly Hills\", 5000000, 12)\n",
        "print(mansion.get_mansion_info())\n"
      ],
      "metadata": {
        "colab": {
          "base_uri": "https://localhost:8080/"
        },
        "id": "kOZXB7W3wrXo",
        "outputId": "92677c8f-e2c5-4578-e648-8d8966204064"
      },
      "execution_count": 21,
      "outputs": [
        {
          "output_type": "stream",
          "name": "stdout",
          "text": [
            "Address: 123 Oak St, Springfield\n",
            "Price: $250000\n",
            "Address: 456 Luxury Ln, Beverly Hills\n",
            "Price: $5000000\n",
            "Number of Rooms: 12\n"
          ]
        }
      ]
    }
  ]
}